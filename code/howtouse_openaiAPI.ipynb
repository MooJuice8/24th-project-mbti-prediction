{
 "cells": [
  {
   "cell_type": "markdown",
   "metadata": {},
   "source": [
    "API 키 받아오는 방법은 아래 주소를 확인하면 좋을 것 같습니다!  \n",
    "openAI 가입한지 얼마 안됐으면 18달러 무료 제공한다는데 어쨌든 결재수단은 등록해야 한다고 합니다!  \n",
    "https://www.daleseo.com/chatgpt-api-keys/"
   ]
  },
  {
   "cell_type": "code",
   "execution_count": null,
   "metadata": {},
   "outputs": [],
   "source": [
    "# openai 라이브러리 설치하기\n",
    "%pip install openai"
   ]
  },
  {
   "cell_type": "code",
   "execution_count": 1,
   "metadata": {},
   "outputs": [],
   "source": [
    "# API 키 복사하신 것을 아래 ''에 붙여넣기 하시면 됩니다!\n",
    "import openai\n",
    "\n",
    "openai.api_key = ''"
   ]
  },
  {
   "cell_type": "markdown",
   "metadata": {},
   "source": [
    "아래 코드 돌리시면 결과가 나옵니다!  \n",
    "query는 ChatGPT에서 우리가 질문 쓰던 것,  \n",
    "role이 system인 content는 GPT한테 페르소나 부여하는 것입니다!  \n",
    "\n",
    "자꾸 쓸데없이 MBTI에 대한 서론 설명을 주길래 \"Don't provide introductory information\"을 붙였는데  \n",
    "이런 방법으로 좋은 프롬프트를 찾으면 될 것 같습니다!"
   ]
  },
  {
   "cell_type": "code",
   "execution_count": 3,
   "metadata": {},
   "outputs": [
    {
     "data": {
      "text/plain": [
       "'INFP stands for Introverted, Intuitive, Feeling, and Perceiving. This type is characterized by their deep inner reflection, sensitivity, and strong value systems. INFPs are known for their creativity, imagination, and empathy towards others. They tend to focus on their personal values and seek authenticity in all aspects of life. INFPs are natural idealists and strive for harmony and peace. They are usually described as gentle, compassionate, and introspective individuals who possess a strong ability to understand the emotions and experiences of others.'"
      ]
     },
     "execution_count": 3,
     "metadata": {},
     "output_type": "execute_result"
    }
   ],
   "source": [
    "model = \"gpt-3.5-turbo\"\n",
    "\n",
    "query = \"What kind of MBTI is INFP?\"\n",
    "\n",
    "messages = [\n",
    "    {\"role\": \"system\", \"content\": \"Act like someone who knows MBTI well.\"},\n",
    "    {\"role\": \"user\", \"content\": query}\n",
    "]\n",
    "\n",
    "response = openai.chat.completions.create(\n",
    "    model = model,\n",
    "    messages = messages\n",
    ")\n",
    "# answer = response['choices'][0]['message'][content]\n",
    "answer = response.choices[0].message.content\n",
    "answer"
   ]
  },
  {
   "cell_type": "code",
   "execution_count": 2,
   "metadata": {},
   "outputs": [
    {
     "data": {
      "text/plain": [
       "'INFP refers to the Myers-Briggs Type Indicator personality type known as the \"Mediator.\" Individuals with an INFP personality are introverted, intuitive, feeling, and perceiving. They tend to be introspective, idealistic, and value-driven, with a strong focus on personal growth and authenticity. INFPs are typically compassionate, empathetic, and sensitive individuals who prioritize harmony and peace in their relationships. They possess a rich inner world and are often creative, imaginative, and inclined towards artistic pursuits. INFPs are known for their strong values and commitments and may often find themselves drawn to careers or causes that align with their deeply-held beliefs.'"
      ]
     },
     "execution_count": 2,
     "metadata": {},
     "output_type": "execute_result"
    }
   ],
   "source": [
    "model = \"gpt-3.5-turbo\"\n",
    "\n",
    "query = \"What kind of MBTI is INFP?\"\n",
    "\n",
    "messages = [\n",
    "    {\"role\": \"system\", \"content\": \"Act like someone who knows MBTI well. Don't provide introductory information.\"},\n",
    "    {\"role\": \"user\", \"content\": query}\n",
    "]\n",
    "\n",
    "response = openai.chat.completions.create(\n",
    "    model = model,\n",
    "    messages = messages\n",
    ")\n",
    "answer = response.choices[0].message.content\n",
    "answer"
   ]
  },
  {
   "cell_type": "markdown",
   "metadata": {},
   "source": [
    "기본적인 사용법은 여기까지이고 여러번 돌려서 데이터셋 만드는 것은 다 같이 해봐요~!  "
   ]
  },
  {
   "cell_type": "markdown",
   "metadata": {},
   "source": [
    "이거 비용은 openAI 사이트(https://openai.com/pricing) 들어가면 확인할 수 있습니다.\n",
    "제가 듣기로 400토큰 제한으로 답변 당 돈이 곱해진다고 하는데  \n",
    "비용을 줄이기 위해서는 질문을 묶어서 답변을 두 개씩 받는 방법이 있다고 합니다.\n",
    "\n",
    "그러면 답변 하나를 150단어 정도로 줄여야 하는데(제 계산이 맞다면 400토큰이 300단어입니다. 지금 제가 너무 졸려서 틀릴 수도 있어요.) 이거 관련해서는 논의가 필요할 것 같아요!\n",
    "\n",
    "단위는 이거 참고하시면 됩니다!\n",
    "1K = 1000토큰 = 영단어 약 750단어  \n"
   ]
  },
  {
   "cell_type": "markdown",
   "metadata": {},
   "source": []
  }
 ],
 "metadata": {
  "kernelspec": {
   "display_name": "base",
   "language": "python",
   "name": "python3"
  },
  "language_info": {
   "codemirror_mode": {
    "name": "ipython",
    "version": 3
   },
   "file_extension": ".py",
   "mimetype": "text/x-python",
   "name": "python",
   "nbconvert_exporter": "python",
   "pygments_lexer": "ipython3",
   "version": "3.11.5"
  }
 },
 "nbformat": 4,
 "nbformat_minor": 2
}
