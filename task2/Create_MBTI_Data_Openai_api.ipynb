{
 "cells": [
  {
   "cell_type": "code",
   "execution_count": 2,
   "metadata": {},
   "outputs": [
    {
     "name": "stdout",
     "output_type": "stream",
     "text": [
      "Collecting openai\n",
      "  Downloading openai-1.12.0-py3-none-any.whl.metadata (18 kB)\n",
      "Requirement already satisfied: anyio<5,>=3.5.0 in c:\\users\\moohyeonkim\\appdata\\local\\programs\\python\\python311\\lib\\site-packages (from openai) (4.2.0)\n",
      "Collecting distro<2,>=1.7.0 (from openai)\n",
      "  Downloading distro-1.9.0-py3-none-any.whl.metadata (6.8 kB)\n",
      "Collecting httpx<1,>=0.23.0 (from openai)\n",
      "  Downloading httpx-0.26.0-py3-none-any.whl.metadata (7.6 kB)\n",
      "Collecting pydantic<3,>=1.9.0 (from openai)\n",
      "  Downloading pydantic-2.6.1-py3-none-any.whl.metadata (83 kB)\n",
      "     ---------------------------------------- 0.0/83.5 kB ? eta -:--:--\n",
      "     ---------------------------------------- 83.5/83.5 kB 4.6 MB/s eta 0:00:00\n",
      "Requirement already satisfied: sniffio in c:\\users\\moohyeonkim\\appdata\\local\\programs\\python\\python311\\lib\\site-packages (from openai) (1.3.0)\n",
      "Requirement already satisfied: tqdm>4 in c:\\users\\moohyeonkim\\appdata\\local\\programs\\python\\python311\\lib\\site-packages (from openai) (4.66.1)\n",
      "Requirement already satisfied: typing-extensions<5,>=4.7 in c:\\users\\moohyeonkim\\appdata\\local\\programs\\python\\python311\\lib\\site-packages (from openai) (4.8.0)\n",
      "Requirement already satisfied: idna>=2.8 in c:\\users\\moohyeonkim\\appdata\\local\\programs\\python\\python311\\lib\\site-packages (from anyio<5,>=3.5.0->openai) (3.4)\n",
      "Requirement already satisfied: certifi in c:\\users\\moohyeonkim\\appdata\\local\\programs\\python\\python311\\lib\\site-packages (from httpx<1,>=0.23.0->openai) (2023.7.22)\n",
      "Collecting httpcore==1.* (from httpx<1,>=0.23.0->openai)\n",
      "  Downloading httpcore-1.0.2-py3-none-any.whl.metadata (20 kB)\n",
      "Requirement already satisfied: h11<0.15,>=0.13 in c:\\users\\moohyeonkim\\appdata\\local\\programs\\python\\python311\\lib\\site-packages (from httpcore==1.*->httpx<1,>=0.23.0->openai) (0.14.0)\n",
      "Collecting annotated-types>=0.4.0 (from pydantic<3,>=1.9.0->openai)\n",
      "  Downloading annotated_types-0.6.0-py3-none-any.whl.metadata (12 kB)\n",
      "Collecting pydantic-core==2.16.2 (from pydantic<3,>=1.9.0->openai)\n",
      "  Downloading pydantic_core-2.16.2-cp311-none-win_amd64.whl.metadata (6.6 kB)\n",
      "Requirement already satisfied: colorama in c:\\users\\moohyeonkim\\appdata\\roaming\\python\\python311\\site-packages (from tqdm>4->openai) (0.4.6)\n",
      "Downloading openai-1.12.0-py3-none-any.whl (226 kB)\n",
      "   ---------------------------------------- 0.0/226.7 kB ? eta -:--:--\n",
      "   ---------------------------------------  225.3/226.7 kB 6.9 MB/s eta 0:00:01\n",
      "   ---------------------------------------- 226.7/226.7 kB 3.5 MB/s eta 0:00:00\n",
      "Downloading distro-1.9.0-py3-none-any.whl (20 kB)\n",
      "Downloading httpx-0.26.0-py3-none-any.whl (75 kB)\n",
      "   ---------------------------------------- 0.0/75.9 kB ? eta -:--:--\n",
      "   ---------------------------------------- 75.9/75.9 kB 2.1 MB/s eta 0:00:00\n",
      "Downloading httpcore-1.0.2-py3-none-any.whl (76 kB)\n",
      "   ---------------------------------------- 0.0/76.9 kB ? eta -:--:--\n",
      "   ---------------------------------------- 76.9/76.9 kB 4.4 MB/s eta 0:00:00\n",
      "Downloading pydantic-2.6.1-py3-none-any.whl (394 kB)\n",
      "   ---------------------------------------- 0.0/394.8 kB ? eta -:--:--\n",
      "   ------------------------ --------------- 245.8/394.8 kB 5.0 MB/s eta 0:00:01\n",
      "   ---------------------------------------  389.1/394.8 kB 4.9 MB/s eta 0:00:01\n",
      "   ---------------------------------------- 394.8/394.8 kB 3.5 MB/s eta 0:00:00\n",
      "Downloading pydantic_core-2.16.2-cp311-none-win_amd64.whl (1.9 MB)\n",
      "   ---------------------------------------- 0.0/1.9 MB ? eta -:--:--\n",
      "   ------ --------------------------------- 0.3/1.9 MB 5.0 MB/s eta 0:00:01\n",
      "   ------------ --------------------------- 0.6/1.9 MB 4.3 MB/s eta 0:00:01\n",
      "   ----------------- ---------------------- 0.8/1.9 MB 4.4 MB/s eta 0:00:01\n",
      "   --------------------- ------------------ 1.0/1.9 MB 4.4 MB/s eta 0:00:01\n",
      "   --------------------------- ------------ 1.3/1.9 MB 4.3 MB/s eta 0:00:01\n",
      "   -------------------------------- ------- 1.5/1.9 MB 4.3 MB/s eta 0:00:01\n",
      "   ------------------------------------- -- 1.8/1.9 MB 4.2 MB/s eta 0:00:01\n",
      "   ---------------------------------------- 1.9/1.9 MB 4.0 MB/s eta 0:00:00\n",
      "Downloading annotated_types-0.6.0-py3-none-any.whl (12 kB)\n",
      "Installing collected packages: pydantic-core, httpcore, distro, annotated-types, pydantic, httpx, openai\n",
      "Successfully installed annotated-types-0.6.0 distro-1.9.0 httpcore-1.0.2 httpx-0.26.0 openai-1.12.0 pydantic-2.6.1 pydantic-core-2.16.2\n",
      "Note: you may need to restart the kernel to use updated packages.\n"
     ]
    }
   ],
   "source": [
    "# openai 라이브러리 설치하기\n",
    "%pip install openai"
   ]
  },
  {
   "cell_type": "code",
   "execution_count": 1,
   "metadata": {},
   "outputs": [],
   "source": [
    "# API 키\n",
    "import openai\n",
    "openai.api_key = 'YOUR_API_KEY'"
   ]
  },
  {
   "cell_type": "code",
   "execution_count": 4,
   "metadata": {},
   "outputs": [],
   "source": [
    "import random\n",
    "import json\n",
    "\n",
    "model = \"gpt-3.5-turbo\"\n",
    "\n",
    "# Broadening the range of topics and tones\n",
    "topics = [\"personal growth\", \"culture\", \"everyday life\", \"relationships\", \"school life\", \"hobbies\", \"career\", \"work life\", \"entertainment\", \"technology\"]\n",
    "tones = [\"analytical\", \"humorous\", \"inspirational\", \"critical\", \"informative\"]\n",
    "\n",
    "json_data = []\n",
    "\n",
    "for i in range(10):  # Assuming you want to generate a set for each topic\n",
    "    topic = random.choice(topics)\n",
    "    tone = random.choice(tones)  # Cycle through tones\n",
    "    \n",
    "    messages = [\n",
    "        {\"role\": \"system\", \"content\": f\"You are a person whose MBTI is ENTJ. Generate a Q&A pair on the topic of {topic}, with a {tone} tone. The questions should start with 'Q:' and the answers should start with 'A:'. Both questions and answers should be in Korean, reflecting deep insight and thoughtful analysis inherent to INTJ personalities. Avoid mentioning MBTI types directly in the questions and answers. Both questions and answers should not exceed 400 characters, respectively.\"},\n",
    "        {\"role\": \"user\", \"content\": f\"Please provide an example of a Q&A pair discussing {topic} in a {tone} manner. Do not translate or use languages other than Korean.\"}\n",
    "    ]\n",
    "    \n",
    "    response = openai.chat.completions.create(\n",
    "        model = model,\n",
    "        messages = messages\n",
    "    )\n",
    "    answer = response.choices[0].message.content\n",
    "\n",
    "    q_and_a = answer.split('\\n')  # This assumes the question and answer are separated by a newline\n",
    "    if len(q_and_a) >= 2:\n",
    "        question = q_and_a[0][3:]  # Remove 'Q: '\n",
    "        answer_text = q_and_a[1][3:]  # Remove 'A: '\n",
    "        # Append to json_data\n",
    "        json_data.append({\n",
    "            \"instruction\": question,\n",
    "            \"input\": \"\",\n",
    "            \"output\": answer_text\n",
    "        })\n",
    "\n",
    "# Once the loop is done, you can write json_data to a file\n",
    "with open('ENTJ.json', 'w', encoding='utf-8') as f:\n",
    "    json.dump(json_data, f, ensure_ascii=False, indent=2)\n"
   ]
  }
 ],
 "metadata": {
  "kernelspec": {
   "display_name": "base",
   "language": "python",
   "name": "python3"
  },
  "language_info": {
   "codemirror_mode": {
    "name": "ipython",
    "version": 3
   },
   "file_extension": ".py",
   "mimetype": "text/x-python",
   "name": "python",
   "nbconvert_exporter": "python",
   "pygments_lexer": "ipython3",
   "version": "3.11.5"
  }
 },
 "nbformat": 4,
 "nbformat_minor": 2
}
